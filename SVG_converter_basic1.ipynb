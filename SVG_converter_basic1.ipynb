{
 "cells": [
  {
   "cell_type": "code",
   "execution_count": 1,
   "id": "0b3e8961",
   "metadata": {},
   "outputs": [
    {
     "name": "stdout",
     "output_type": "stream",
     "text": [
      "1\n",
      " 0 : 4 dots\n"
     ]
    },
    {
     "data": {
      "image/png": "[encoded data removed]",
      "text/plain": [
       "<Figure size 432x288 with 1 Axes>"
      ]
     },
     "metadata": {
      "needs_background": "light"
     },
     "output_type": "display_data"
    },
    {
     "name": "stdout",
     "output_type": "stream",
     "text": [
      "label size = 1\n",
      "(4, 2)\n"
     ]
    }
   ],
   "source": [
    "## Python basics for novice data scientists, supported by Wagatsuma Lab@Kyutech \n",
    "#\n",
    "# The MIT License (MIT): Copyright (c) 2022 Hiroaki Wagatsuma and Wagatsuma Lab@Kyutech\n",
    "# \n",
    "# Permission is hereby granted, free of charge, to any person obtaining a copy of this software and associated documentation files (the \"Software\"), to deal in the Software without restriction, including without limitation the rights to use, copy, modify, merge, publish, distribute, sublicense, and/or sell copies of the Software, and to permit persons to whom the Software is furnished to do so, subject to the following conditions:\n",
    "# The above copyright notice and this permission notice shall be included in all copies or substantial portions of the Software.\n",
    "# THE SOFTWARE IS PROVIDED \"AS IS\", WITHOUT WARRANTY OF ANY KIND, EXPRESS OR IMPLIED, INCLUDING BUT NOT LIMITED TO THE WARRANTIES OF MERCHANTABILITY, FITNESS FOR A PARTICULAR PURPOSE AND NONINFRINGEMENT. IN NO EVENT SHALL THE AUTHORS OR COPYRIGHT HOLDERS BE LIABLE FOR ANY CLAIM, DAMAGES OR OTHER LIABILITY, WHETHER IN AN ACTION OF CONTRACT, TORT OR OTHERWISE, ARISING FROM, OUT OF OR IN CONNECTION WITH THE SOFTWARE OR THE USE OR OTHER DEALINGS IN THE SOFTWARE. */\n",
    "#\n",
    "# # @Time    : 2022-12-24 \n",
    "# # @Author  : Hiroaki Wagatsuma\n",
    "# # @Site    : https://github.com/hirowgit/2B0_python_optmization_course\n",
    "# # @IDE     : Python 3.9.14 (main, Sep  6 2022, 23:29:09) [Clang 13.1.6 (clang-1316.0.21.2.5)] on darwin\n",
    "# # @File    : SVG_converter_basic1.py\n",
    "\n",
    "\n",
    "import numpy as np\n",
    "import matplotlib.pyplot as plt\n",
    "import os\n",
    "\n",
    "from svg.path import parse_path\n",
    "from svg.path.path import Line\n",
    "from xml.dom import minidom\n",
    "\n",
    "from time import time\n",
    "import pandas as pd\n",
    "\n",
    "datafol_in='data'\n",
    "datafol_out='output'\n",
    "\n",
    "inputF='draw1.svg'\n",
    "\n",
    "doc = minidom.parse(os.path.join(datafol_in,inputF))\n",
    "# path_strings = [path.getAttribute('d') for path\n",
    "#                 in doc.getElementsByTagName('path')]\n",
    "# path_strings = [path.getAttribute('d') for path\n",
    "#                 in doc.getElementsByTagName('polyline')]\n",
    "\n",
    "path_strings = [path.getAttribute('points') for path\n",
    "                in doc.getElementsByTagName('polygon')]\n",
    "\n",
    "doc.unlink()\n",
    "\n",
    "points_np_all2=[]\n",
    "points_np_all=np.empty((len(path_strings)),dtype=object)\n",
    "\n",
    "for k in range(len(path_strings)):\n",
    "# for k in range(KL):\n",
    "#for path_string in path_strings:\n",
    "#     path = parse_path(path_strings[k])\n",
    "    points_np_merge=np.empty((0,2), float)\n",
    "\n",
    "#     path = path_strings[k].split(' ')  \n",
    "    kd=path_strings[k]\n",
    "    pointDstr=[d.split(',') for d in kd.split(' ') if len(d)>0]\n",
    "    pointDtmp=np.array([(d[0]) for d in pointDstr])\n",
    "    pointD=pointDtmp.astype(np.float64)\n",
    "    vNum=int(np.shape(pointD)[0]/2)\n",
    "    pointD2=np.reshape(pointD,[vNum,2])\n",
    "#     print(pointD2)\n",
    "    points_np_all[k]=pointD2\n",
    "#     k2=1\n",
    "\n",
    "# points_np_all\n",
    "print(len(points_np_all))\n",
    "\n",
    "for k in range(len(points_np_all)):\n",
    "    print(' %d : %d dots' % (k,len(points_np_all[k])))\n",
    "\n",
    "fig1, ax = plt.subplots()\n",
    "# plt.grid(color='k', linestyle='-', linewidth=0.5)\n",
    "plt.grid(color=[0.5,0.5,0.5], linestyle='-', linewidth=0.5)\n",
    "\n",
    "for k in range(len(points_np_all)):\n",
    "    points_np=points_np_all[k]\n",
    "    plt.plot(points_np[:, 0], points_np[:, 1], '.-')\n",
    "ax.axis('equal')\n",
    "plt.show()\n",
    "\n",
    "maxL=max(len(points_np_all[k]) for k in range(len(points_np_all)))\n",
    "\n",
    "label=np.empty([],dtype='unicode')\n",
    "print(\"label size = %d\" % (label.size))\n",
    "label=[]\n",
    "for k in range(len(points_np_all)): \n",
    "    label=np.append(label,[\"x%d\"%(k+1),\"y%d\"%(k+1)])\n",
    "dat_df = pd.DataFrame([],columns=label)\n",
    "for k in range(len(points_np_all)):\n",
    "    points_np=points_np_all[k]\n",
    "    tmp0=np.zeros([maxL,2])\n",
    "    tmp0[0:points_np.shape[0],:]=points_np\n",
    "    dat_df[\"x%d\"%(k+1)] = tmp0[:,0]\n",
    "    dat_df[\"y%d\"%(k+1)] = tmp0[:,1]\n",
    "    \n",
    "print(dat_df.shape)\n",
    "dat_df\n",
    "\n",
    "outF=inputF.split('.')[0]+'_full.csv'\n",
    "dat_df.to_csv(os.path.join(datafol_out,outF))"
   ]
  }
 ],
 "metadata": {
  "kernelspec": {
   "display_name": "Python 3 (ipykernel)",
   "language": "python",
   "name": "python3"
  },
  "language_info": {
   "codemirror_mode": {
    "name": "ipython",
    "version": 3
   },
   "file_extension": ".py",
   "mimetype": "text/x-python",
   "name": "python",
   "nbconvert_exporter": "python",
   "pygments_lexer": "ipython3",
   "version": "3.9.14"
  }
 },
 "nbformat": 4,
 "nbformat_minor": 5
}
