{
 "cells": [
  {
   "cell_type": "code",
   "execution_count": 48,
   "metadata": {},
   "outputs": [
    {
     "name": "stdout",
     "output_type": "stream",
     "text": [
      "8\n",
      " 0 : 128 dots\n",
      " 1 : 50 dots\n",
      " 2 : 20 dots\n",
      " 3 : 24 dots\n",
      " 4 : 11 dots\n",
      " 5 : 11 dots\n",
      " 6 : 11 dots\n",
      " 7 : 11 dots\n"
     ]
    },
    {
     "data": {
      "image/png": "[encoded data removed]",
      "text/plain": [
       "<Figure size 432x288 with 1 Axes>"
      ]
     },
     "metadata": {
      "needs_background": "light"
     },
     "output_type": "display_data"
    },
    {
     "name": "stdout",
     "output_type": "stream",
     "text": [
      "label size = 1\n",
      "(128, 16)\n"
     ]
    }
   ],
   "source": [
    "## Python basics for novice data scientists, supported by Wagatsuma Lab@Kyutech \n",
    "#\n",
    "# The MIT License (MIT): Copyright (c) 2021 Hiroaki Wagatsuma and Wagatsuma Lab@Kyutech\n",
    "# \n",
    "# Permission is hereby granted, free of charge, to any person obtaining a copy of this software and associated documentation files (the \"Software\"), to deal in the Software without restriction, including without limitation the rights to use, copy, modify, merge, publish, distribute, sublicense, and/or sell copies of the Software, and to permit persons to whom the Software is furnished to do so, subject to the following conditions:\n",
    "# The above copyright notice and this permission notice shall be included in all copies or substantial portions of the Software.\n",
    "# THE SOFTWARE IS PROVIDED \"AS IS\", WITHOUT WARRANTY OF ANY KIND, EXPRESS OR IMPLIED, INCLUDING BUT NOT LIMITED TO THE WARRANTIES OF MERCHANTABILITY, FITNESS FOR A PARTICULAR PURPOSE AND NONINFRINGEMENT. IN NO EVENT SHALL THE AUTHORS OR COPYRIGHT HOLDERS BE LIABLE FOR ANY CLAIM, DAMAGES OR OTHER LIABILITY, WHETHER IN AN ACTION OF CONTRACT, TORT OR OTHERWISE, ARISING FROM, OUT OF OR IN CONNECTION WITH THE SOFTWARE OR THE USE OR OTHER DEALINGS IN THE SOFTWARE. */\n",
    "#\n",
    "# # @Time    : 2021-1-16 \n",
    "# # @Author  : Hiroaki Wagatsuma\n",
    "# # @Site    : https://github.com/hirowgit/2B0_python_optmization_course\n",
    "# # @IDE     : Python 3.7.7 (default, Mar 10 2020, 15:43:27) [Clang 10.0.0 (clang-1000.11.45.5)] on darwin\n",
    "# # @File    : SVG_converter_Gold.py\n",
    "\n",
    "import numpy as np\n",
    "import matplotlib.pyplot as plt\n",
    "import os\n",
    "\n",
    "from svg.path import parse_path\n",
    "from svg.path.path import Line\n",
    "from xml.dom import minidom\n",
    "\n",
    "from time import time\n",
    "import pandas as pd\n",
    "\n",
    "def line_splitter(start, end):\n",
    "    return (lambda t: (1-t)*start+t*end)\n",
    "\n",
    "def cubic_bezier_converter(start, control1, control2, end):\n",
    "    original_data = np.array([start, control1, control2, end])\n",
    "    cubic_bezier_matrix = np.array([\n",
    "        [-1,  3, -3,  1],\n",
    "        [ 3, -6,  3,  0],\n",
    "        [-3,  3,  0,  0],\n",
    "        [ 1,  0,  0,  0]\n",
    "    ])\n",
    "    return_data = cubic_bezier_matrix.dot(original_data)\n",
    "\n",
    "    return (lambda t: np.array([t**3, t**2, t, 1]).dot(return_data))\n",
    "\n",
    "# On the design of \"cubic_bezier_converter\" was learned from\n",
    "# https://stackoverflow.com/questions/36971363/how-to-interpolate-svg-path-into-a-pixel-coordinates-not-simply-raster-in-pyth\n",
    "datafol_in='data'\n",
    "datafol_out='output'\n",
    "\n",
    "inputF='B_sample.svg'\n",
    "inputF='LaneMap2.svg'\n",
    "inputF='CarShapeF.svg'\n",
    "\n",
    "doc = minidom.parse(os.path.join(datafol_in,inputF))\n",
    "path_strings = [path.getAttribute('d') for path\n",
    "                in doc.getElementsByTagName('path')]\n",
    "doc.unlink()\n",
    "\n",
    "points_np_all=[]\n",
    "points_np_all=np.empty((len(path_strings)),dtype=object)\n",
    "print(len(points_np_all))\n",
    "\n",
    "for k in range(len(path_strings)):\n",
    "#for path_string in path_strings:\n",
    "    path = parse_path(path_strings[k])\n",
    "    points_np_merge=np.empty((0,2), float)\n",
    "    for dat in path:\n",
    "        if type(dat).__name__=='CubicBezier':\n",
    "            start_np = np.array([dat.start.real, dat.start.imag])\n",
    "            control1_np = np.array([dat.control1.real, dat.control1.imag])\n",
    "            control2_np = np.array([dat.control2.real, dat.control2.imag])\n",
    "            end_np = np.array([dat.end.real, dat.end.imag])\n",
    "            converted_curve = cubic_bezier_converter(start_np, control1_np, control2_np, end_np)\n",
    "            # \n",
    "            diff_np=start_np-end_np\n",
    "            n_dots=np.round(np.linalg.norm(diff_np)).astype(int)\n",
    "            # \n",
    "            points_np = np.array([converted_curve(t) for t in np.linspace(0, 1, n_dots)])\n",
    "        elif type(dat).__name__=='Line':\n",
    "            start_np = np.array([dat.start.real, dat.start.imag])\n",
    "            end_np = np.array([dat.end.real, dat.end.imag])\n",
    "            converted_line = line_splitter(start_np,end_np)\n",
    "            # \n",
    "            diff_np=start_np-end_np\n",
    "            n_dots=np.round(np.linalg.norm(diff_np)).astype(int)\n",
    "            #     \n",
    "            points_np=np.array([converted_line(t) for t in np.linspace(0, 1, n_dots)])\n",
    "        elif type(dat).__name__=='Move':\n",
    "            # \n",
    "            n_dots=1\n",
    "            # \n",
    "            start_np = np.array([dat.start.real, dat.start.imag])\n",
    "            end_np = np.array([dat.end.real, dat.end.imag])\n",
    "            points_np = np.array([start_np,end_np])\n",
    "        else:\n",
    "            points_np=np.array([])\n",
    "        #points_np_merge=np.concatenate(points_np_merge,points_np)\n",
    "        if np.shape(points_np)[0]>0:\n",
    "                points_np_merge=np.append(points_np_merge, points_np, axis=0)\n",
    "    points_np_all[k]= points_np_merge\n",
    "    print(' %d : %d dots' % (k,len(points_np_merge)))\n",
    "\n",
    "len(points_np_all)\n",
    "\n",
    "fig1, ax = plt.subplots()\n",
    "# plt.grid(color='k', linestyle='-', linewidth=0.5)\n",
    "plt.grid(color=[0.5,0.5,0.5], linestyle='-', linewidth=0.5)\n",
    "\n",
    "for k in range(len(points_np_all)):\n",
    "    points_np=points_np_all[k]\n",
    "    plt.plot(points_np[:, 0], points_np[:, 1], '.-')\n",
    "ax.axis('equal')\n",
    "plt.show()\n",
    "\n",
    "maxL=max(len(points_np_all[k]) for k in range(len(points_np_all)))\n",
    "\n",
    "label=np.empty([],dtype='unicode')\n",
    "print(\"label size = %d\" % (label.size))\n",
    "label=[]\n",
    "for k in range(len(points_np_all)): \n",
    "    label=np.append(label,[\"x%d\"%(k+1),\"y%d\"%(k+1)])\n",
    "dat_df = pd.DataFrame([],columns=label)\n",
    "for k in range(len(points_np_all)):\n",
    "    points_np=points_np_all[k]\n",
    "    tmp0=np.zeros([maxL,2])\n",
    "    tmp0[0:points_np.shape[0],:]=points_np\n",
    "    dat_df[\"x%d\"%(k+1)] = tmp0[:,0]\n",
    "    dat_df[\"y%d\"%(k+1)] = tmp0[:,1]\n",
    "    \n",
    "print(dat_df.shape)\n",
    "dat_df\n",
    "\n",
    "outF=inputF.split('.')[0]+'.csv'\n",
    "dat_df.to_csv(os.path.join(datafol_out,outF))"
   ]
  },
  {
   "cell_type": "code",
   "execution_count": null,
   "metadata": {},
   "outputs": [],
   "source": [
    "## Python basics for novice data scientists, supported by Wagatsuma Lab@Kyutech \n",
    "#\n",
    "# The MIT License (MIT): Copyright (c) 2021 Hiroaki Wagatsuma and Wagatsuma Lab@Kyutech\n",
    "# \n",
    "# Permission is hereby granted, free of charge, to any person obtaining a copy of this software and associated documentation files (the \"Software\"), to deal in the Software without restriction, including without limitation the rights to use, copy, modify, merge, publish, distribute, sublicense, and/or sell copies of the Software, and to permit persons to whom the Software is furnished to do so, subject to the following conditions:\n",
    "# The above copyright notice and this permission notice shall be included in all copies or substantial portions of the Software.\n",
    "# THE SOFTWARE IS PROVIDED \"AS IS\", WITHOUT WARRANTY OF ANY KIND, EXPRESS OR IMPLIED, INCLUDING BUT NOT LIMITED TO THE WARRANTIES OF MERCHANTABILITY, FITNESS FOR A PARTICULAR PURPOSE AND NONINFRINGEMENT. IN NO EVENT SHALL THE AUTHORS OR COPYRIGHT HOLDERS BE LIABLE FOR ANY CLAIM, DAMAGES OR OTHER LIABILITY, WHETHER IN AN ACTION OF CONTRACT, TORT OR OTHERWISE, ARISING FROM, OUT OF OR IN CONNECTION WITH THE SOFTWARE OR THE USE OR OTHER DEALINGS IN THE SOFTWARE. */\n",
    "#\n",
    "# # @Time    : 2021-1-16 \n",
    "# # @Author  : Hiroaki Wagatsuma\n",
    "# # @Site    : https://github.com/hirowgit/2B0_python_optmization_course\n",
    "# # @IDE     : Python 3.7.7 (default, Mar 10 2020, 15:43:27) [Clang 10.0.0 (clang-1000.11.45.5)] on darwin\n",
    "# # @File    : SVG_converter_Gold.py\n",
    "\n",
    "import numpy as np\n",
    "import matplotlib.pyplot as plt\n",
    "import os\n",
    "\n",
    "from svg.path import parse_path\n",
    "from svg.path.path import Line\n",
    "from xml.dom import minidom\n",
    "\n",
    "from time import time\n",
    "import pandas as pd\n",
    "\n",
    "def line_splitter(start, end):\n",
    "    return (lambda t: (1-t)*start+t*end)\n",
    "\n",
    "def cubic_bezier_converter(start, control1, control2, end):\n",
    "    original_data = np.array([start, control1, control2, end])\n",
    "    cubic_bezier_matrix = np.array([\n",
    "        [-1,  3, -3,  1],\n",
    "        [ 3, -6,  3,  0],\n",
    "        [-3,  3,  0,  0],\n",
    "        [ 1,  0,  0,  0]\n",
    "    ])\n",
    "    return_data = cubic_bezier_matrix.dot(original_data)\n",
    "\n",
    "    return (lambda t: np.array([t**3, t**2, t, 1]).dot(return_data))\n",
    "\n",
    "# On the design of \"cubic_bezier_converter\" was learned from\n",
    "# https://stackoverflow.com/questions/36971363/how-to-interpolate-svg-path-into-a-pixel-coordinates-not-simply-raster-in-pyth\n",
    "datafol_in='data'\n",
    "datafol_out='output'\n",
    "\n",
    "inputF='B_sample.svg'\n",
    "inputF='LaneMap2.svg'\n",
    "inputF='CarShapeF.svg'\n",
    "# inputF='BY_ASS.svg'"
   ]
  },
  {
   "cell_type": "code",
   "execution_count": 163,
   "metadata": {},
   "outputs": [
    {
     "name": "stdout",
     "output_type": "stream",
     "text": [
      "8\n",
      " 0 : 128 dots\n",
      " 1 : 50 dots\n",
      " 2 : 20 dots\n",
      " 3 : 24 dots\n",
      " 4 : 11 dots\n",
      " 5 : 11 dots\n",
      " 6 : 11 dots\n",
      " 7 : 11 dots\n"
     ]
    }
   ],
   "source": [
    "\n",
    "\n",
    "doc = minidom.parse(os.path.join(datafol_in,inputF))\n",
    "path_strings = [path.getAttribute('d') for path\n",
    "                in doc.getElementsByTagName('path')]\n",
    "# path_strings = [path.getAttribute('d') for path\n",
    "#                 in doc.getElementsByTagName('polyline')]\n",
    "doc.unlink()\n",
    "\n",
    "# KL=3\n",
    "points_np_all2=[]\n",
    "points_np_all=np.empty((len(path_strings)),dtype=object)\n",
    "# points_np_all=np.empty((KL),dtype=object)\n",
    "print(len(points_np_all))\n",
    "\n",
    "for k in range(len(path_strings)):\n",
    "# for k in range(KL):\n",
    "#for path_string in path_strings:\n",
    "    path = parse_path(path_strings[k])\n",
    "    points_np_merge=np.empty((0,2), float)\n",
    "#     k2=1\n",
    "    for dat in path:\n",
    "#         print([str(k2),type(dat).__name__])\n",
    "        if type(dat).__name__=='CubicBezier':\n",
    "#             print('CubicBezier')\n",
    "            start_np = np.array([dat.start.real, dat.start.imag])\n",
    "            control1_np = np.array([dat.control1.real, dat.control1.imag])\n",
    "            control2_np = np.array([dat.control2.real, dat.control2.imag])\n",
    "            end_np = np.array([dat.end.real, dat.end.imag])\n",
    "            converted_curve = cubic_bezier_converter(start_np, control1_np, control2_np, end_np)\n",
    "            # \n",
    "            diff_np=start_np-end_np\n",
    "            n_dots=np.round(np.linalg.norm(diff_np)).astype(int)\n",
    "            # \n",
    "            points_np = np.array([converted_curve(t) for t in np.linspace(0, 1, n_dots)])\n",
    "        elif type(dat).__name__=='Line':\n",
    "#             print('Line')\n",
    "            start_np = np.array([dat.start.real, dat.start.imag])\n",
    "            end_np = np.array([dat.end.real, dat.end.imag])\n",
    "            converted_line = line_splitter(start_np,end_np)\n",
    "            # \n",
    "            diff_np=start_np-end_np\n",
    "            n_dots=np.round(np.linalg.norm(diff_np)).astype(int)\n",
    "            #     \n",
    "            points_np=np.array([converted_line(t) for t in np.linspace(0, 1, n_dots)])\n",
    "        elif type(dat).__name__=='Move':\n",
    "#             print('Move')\n",
    "            # \n",
    "            n_dots=1\n",
    "            # \n",
    "            start_np = np.array([dat.start.real, dat.start.imag])\n",
    "            end_np = np.array([dat.end.real, dat.end.imag])\n",
    "            points_np = np.array([start_np,end_np])\n",
    "        else:\n",
    "            points_np=np.array([])\n",
    "        #points_np_merge=np.concatenate(points_np_merge,points_np)\n",
    "        if np.shape(points_np)[0]>0:\n",
    "                points_np_merge=np.append(points_np_merge, points_np, axis=0)\n",
    "#         k2=k2+1\n",
    "    points_np_all[k]= points_np_merge\n",
    "    print(' %d : %d dots' % (k,len(points_np_merge)))\n",
    "\n",
    "points_np_all2=points_np_all"
   ]
  },
  {
   "cell_type": "code",
   "execution_count": 158,
   "metadata": {},
   "outputs": [],
   "source": [
    "# points_np_all[1]"
   ]
  },
  {
   "cell_type": "code",
   "execution_count": 159,
   "metadata": {},
   "outputs": [],
   "source": [
    "# aa=np.append(points_np_all,points_np_all)\n",
    "# len(aa)\n",
    "# points_np_all2"
   ]
  },
  {
   "cell_type": "code",
   "execution_count": 164,
   "metadata": {},
   "outputs": [],
   "source": [
    "doc = minidom.parse(os.path.join(datafol_in,inputF))\n",
    "path_strings = [path.getAttribute('points') for path\n",
    "                in doc.getElementsByTagName('polyline')]\n",
    "# path_strings = [path.getAttribute('d') for path\n",
    "#                 in doc.getElementsByTagName('polyline')]\n",
    "doc.unlink()\n",
    "\n",
    "points_np_merge=[]\n",
    "points_np_all=np.empty((len(path_strings)),dtype=object)\n",
    "\n",
    "for k in range(len(path_strings)):\n",
    "    kd=path_strings[k]\n",
    "    pointD=[d.split(',') for d in kd.split(' ') if len(d)>0]\n",
    "#     points_np=np.array([[float(d[0]),float(d[1])] for d in pointD])\n",
    "    points_np=np.array([[float(d[0]),float(d[1])] for d in pointD])\n",
    "    points_np_all[k]=points_np\n",
    "#     points_np_all[k]= np.append(points_np_merge, points_np, axis=0)\n",
    "#     points_np_all[k]= points_np_merge\n",
    "\n",
    "# print(points_np_all)\n",
    "    \n",
    "points_np_all2=np.append(points_np_all2,points_np_all)\n",
    "# points_np_all2"
   ]
  },
  {
   "cell_type": "code",
   "execution_count": 165,
   "metadata": {},
   "outputs": [],
   "source": [
    "doc = minidom.parse(os.path.join(datafol_in,inputF))\n",
    "path_strings = [[path.getAttribute('x1'),path.getAttribute('y1'),path.getAttribute('x2'),path.getAttribute('y2')]  for path\n",
    "                in doc.getElementsByTagName('line')]\n",
    "doc.unlink()\n",
    "path_strings\n",
    "\n",
    "\n",
    "points_np_merge=[]\n",
    "points_np_all=np.empty((len(path_strings)),dtype=object)\n",
    "\n",
    "for k in range(len(path_strings)):\n",
    "    kd=path_strings[k]\n",
    "    points_np=np.array([[float(kd[0]),float(kd[1])],[float(kd[2]),float(kd[3])]])\n",
    "    points_np_all[k]=points_np\n",
    "    \n",
    "# print(points_np_all)    \n",
    "points_np_all2=np.append(points_np_all2,points_np_all)\n",
    "# points_np_all2"
   ]
  },
  {
   "cell_type": "code",
   "execution_count": 166,
   "metadata": {},
   "outputs": [
    {
     "data": {
      "image/png": "[encoded data removed]",
      "text/plain": [
       "<Figure size 432x288 with 1 Axes>"
      ]
     },
     "metadata": {
      "needs_background": "light"
     },
     "output_type": "display_data"
    },
    {
     "name": "stdout",
     "output_type": "stream",
     "text": [
      "label size = 1\n",
      "(128, 36)\n"
     ]
    }
   ],
   "source": [
    "points_np_all=points_np_all2\n",
    "len(points_np_all)\n",
    "\n",
    "fig1, ax = plt.subplots()\n",
    "# plt.grid(color='k', linestyle='-', linewidth=0.5)\n",
    "plt.grid(color=[0.5,0.5,0.5], linestyle='-', linewidth=0.5)\n",
    "\n",
    "for k in range(len(points_np_all)):\n",
    "    points_np=points_np_all[k]\n",
    "    plt.plot(points_np[:, 0], points_np[:, 1], '.-')\n",
    "ax.axis('equal')\n",
    "plt.show()\n",
    "\n",
    "maxL=max(len(points_np_all[k]) for k in range(len(points_np_all)))\n",
    "\n",
    "label=np.empty([],dtype='unicode')\n",
    "print(\"label size = %d\" % (label.size))\n",
    "label=[]\n",
    "for k in range(len(points_np_all)): \n",
    "    label=np.append(label,[\"x%d\"%(k+1),\"y%d\"%(k+1)])\n",
    "dat_df = pd.DataFrame([],columns=label)\n",
    "for k in range(len(points_np_all)):\n",
    "    points_np=points_np_all[k]\n",
    "    tmp0=np.zeros([maxL,2])\n",
    "    tmp0[0:points_np.shape[0],:]=points_np\n",
    "    dat_df[\"x%d\"%(k+1)] = tmp0[:,0]\n",
    "    dat_df[\"y%d\"%(k+1)] = tmp0[:,1]\n",
    "    \n",
    "print(dat_df.shape)\n",
    "dat_df\n",
    "\n",
    "outF=inputF.split('.')[0]+'.csv'\n",
    "dat_df.to_csv(os.path.join(datafol_out,outF))"
   ]
  },
  {
   "cell_type": "code",
   "execution_count": 156,
   "metadata": {},
   "outputs": [
    {
     "data": {
      "text/plain": [
       "[[337.893, 149.824], [342.367, 154.619]]"
      ]
     },
     "execution_count": 156,
     "metadata": {},
     "output_type": "execute_result"
    }
   ],
   "source": [
    "d=kd\n",
    "[[float(d[0]),float(d[1])],[float(d[2]),float(d[3])]]"
   ]
  },
  {
   "cell_type": "code",
   "execution_count": 151,
   "metadata": {},
   "outputs": [
    {
     "data": {
      "text/plain": [
       "[['337.893', '149.824', '342.367', '154.619'],\n",
       " ['327.342', '149.824', '322.867', '154.619'],\n",
       " ['323.451', '128.73', '326.783', '137.04'],\n",
       " ['341.783', '129.209', '338.449', '137.52'],\n",
       " ['322.83', '142.314', '326.402', '143.592'],\n",
       " ['342.402', '142.314', '338.832', '143.592']]"
      ]
     },
     "execution_count": 151,
     "metadata": {},
     "output_type": "execute_result"
    }
   ],
   "source": [
    "doc = minidom.parse(os.path.join(datafol_in,inputF))\n",
    "path_strings = [[path.getAttribute('x1'),path.getAttribute('y1'),path.getAttribute('x2'),path.getAttribute('y2')]  for path\n",
    "                in doc.getElementsByTagName('line')]\n",
    "doc.unlink()\n",
    "path_strings"
   ]
  },
  {
   "cell_type": "code",
   "execution_count": 137,
   "metadata": {},
   "outputs": [
    {
     "data": {
      "text/plain": [
       "array([[328.533, 114.667],\n",
       "       [326.582, 127.426],\n",
       "       [324.199, 129.209],\n",
       "       [328.533, 114.667],\n",
       "       [326.582, 127.426],\n",
       "       [324.199, 129.209]])"
      ]
     },
     "execution_count": 137,
     "metadata": {},
     "output_type": "execute_result"
    }
   ],
   "source": [
    "points_np_merge=[]\n",
    "points_np=np.array(points_np)\n",
    "np.shape(points_np)\n",
    "np.vstack([points_np,points_np])\n",
    "# np.vstack(points_np, points_np)"
   ]
  },
  {
   "cell_type": "code",
   "execution_count": 118,
   "metadata": {},
   "outputs": [
    {
     "data": {
      "text/plain": [
       "['328.533,114.667 326.582,127.426 324.199,129.209   ',\n",
       " '336.701,114.667 338.65,127.426 341.033,129.209   ',\n",
       " '339.182,164.851 340.551,157.404 339.713,156.058   ',\n",
       " '326.051,164.851 324.682,157.404 325.52,156.058   ']"
      ]
     },
     "execution_count": 118,
     "metadata": {},
     "output_type": "execute_result"
    }
   ],
   "source": [
    "doc = minidom.parse(os.path.join(datafol_in,inputF))\n",
    "path_strings = [path.getAttribute('points') for path\n",
    "                in doc.getElementsByTagName('polyline')]\n",
    "# path_strings = [path.getAttribute('d') for path\n",
    "#                 in doc.getElementsByTagName('polyline')]\n",
    "doc.unlink()\n",
    "path_strings"
   ]
  },
  {
   "cell_type": "code",
   "execution_count": 105,
   "metadata": {},
   "outputs": [
    {
     "data": {
      "text/plain": [
       "array([[326.051, 164.851],\n",
       "       [324.682, 157.404],\n",
       "       [325.52 , 156.058]])"
      ]
     },
     "execution_count": 105,
     "metadata": {},
     "output_type": "execute_result"
    }
   ],
   "source": [
    "pointD=[d.split(',') for d in kd.split(' ') if len(d)>0]\n",
    "pointD_np=np.array([[float(d[0]),float(d[1])] for d in pointD])\n",
    "pointD_np\n",
    "# pointD"
   ]
  },
  {
   "cell_type": "code",
   "execution_count": 11,
   "metadata": {},
   "outputs": [
    {
     "data": {
      "text/plain": [
       "'CarShapeF.csv'"
      ]
     },
     "execution_count": 11,
     "metadata": {},
     "output_type": "execute_result"
    }
   ],
   "source": [
    "inputF.split('.')[0]+'.csv'"
   ]
  },
  {
   "cell_type": "code",
   "execution_count": null,
   "metadata": {},
   "outputs": [],
   "source": [
    "        disp([str(),type(dat).__name__])\n"
   ]
  },
  {
   "cell_type": "code",
   "execution_count": 42,
   "metadata": {},
   "outputs": [
    {
     "data": {
      "text/plain": [
       "Path(Move(to=(324.797+131.925j)), Line(start=(324.797+131.925j), end=(324.797+131.925j)), CubicBezier(start=(324.797+131.925j), control1=(324.797+129.89600000000002j), control2=(326.24+128.25j), end=(329.774+128.25j), smooth=False), Line(start=(329.774+128.25j), end=(335.46+128.25j)), CubicBezier(start=(335.46+128.25j), control1=(338.993+128.25j), control2=(340.43699999999995+129.896j), end=(340.43699999999995+131.925j), smooth=False), Line(start=(340.43699999999995+131.925j), end=(340.43699999999995+131.925j)))"
      ]
     },
     "execution_count": 42,
     "metadata": {},
     "output_type": "execute_result"
    }
   ],
   "source": [
    "path"
   ]
  },
  {
   "cell_type": "code",
   "execution_count": 28,
   "metadata": {},
   "outputs": [
    {
     "data": {
      "text/plain": [
       "Line(start=(342.826+160.498j), end=(342.826+160.498j))"
      ]
     },
     "execution_count": 28,
     "metadata": {},
     "output_type": "execute_result"
    }
   ],
   "source": [
    "path[1]"
   ]
  },
  {
   "cell_type": "code",
   "execution_count": 52,
   "metadata": {},
   "outputs": [
    {
     "data": {
      "text/plain": [
       "[]"
      ]
     },
     "execution_count": 52,
     "metadata": {},
     "output_type": "execute_result"
    }
   ],
   "source": [
    "doc.getElementsByTagName('line')"
   ]
  },
  {
   "cell_type": "code",
   "execution_count": 57,
   "metadata": {},
   "outputs": [
    {
     "data": {
      "text/plain": [
       "['M342.449,160.546c0,2.553-3.156,4.621-5.818,4.621h-8.027   c-2.662,0-5.82-2.068-5.82-4.621v-39.021c0-2.551,3.158-6.538,5.82-6.538h8.027c2.662,0,5.818,3.987,5.818,6.538V160.546z',\n",
       " 'M338.518,149.754c0,0.748-1.295,1.354-2.893,1.354h-6.018   c-1.598,0-2.893-0.606-2.893-1.354v-11.998c0-0.748,1.295-1.354,2.893-1.354h6.018c1.598,0,2.893,0.607,2.893,1.354V149.754z',\n",
       " 'M324.797,131.925L324.797,131.925c0-2.029,1.443-3.675,4.977-3.675   h5.686c3.533,0,4.977,1.646,4.977,3.675l0,0',\n",
       " 'M340.436,154.299v-0.959c0,1.941-1.443,4.476-4.977,4.476h-5.686   c-3.533,0-4.977-2.534-4.977-4.476v0.959',\n",
       " 'M322.567,127.999L322.567,127.999c-0.317,0-0.574-0.261-0.574-0.583   v-6.667c0-0.322,0.257-0.583,0.574-0.583l0,0',\n",
       " 'M342.666,127.999L342.666,127.999c0.317,0,0.574-0.261,0.574-0.583   v-6.667c0-0.322-0.257-0.583-0.574-0.583l0,0',\n",
       " 'M322.408,160.498L322.408,160.498c-0.322,0-0.584-0.261-0.584-0.583   v-6.667c0-0.322,0.262-0.583,0.584-0.583l0,0',\n",
       " 'M342.826,160.498L342.826,160.498c0.322,0,0.582-0.261,0.582-0.583   v-6.667c0-0.322-0.26-0.583-0.582-0.583l0,0']"
      ]
     },
     "execution_count": 57,
     "metadata": {},
     "output_type": "execute_result"
    }
   ],
   "source": [
    "doc = minidom.parse(os.path.join(datafol_in,inputF))\n",
    "path_strings = [path.getAttribute('d') for path\n",
    "                in doc.getElementsByTagName('path')]\n",
    "doc.unlink()\n",
    "path_strings"
   ]
  },
  {
   "cell_type": "code",
   "execution_count": 58,
   "metadata": {},
   "outputs": [
    {
     "data": {
      "text/plain": [
       "['328.533,114.667 326.582,127.426 324.199,129.209   ',\n",
       " '336.701,114.667 338.65,127.426 341.033,129.209   ',\n",
       " '339.182,164.851 340.551,157.404 339.713,156.058   ',\n",
       " '326.051,164.851 324.682,157.404 325.52,156.058   ']"
      ]
     },
     "execution_count": 58,
     "metadata": {},
     "output_type": "execute_result"
    }
   ],
   "source": [
    "doc = minidom.parse(os.path.join(datafol_in,inputF))\n",
    "path_strings = [path.getAttribute('points') for path\n",
    "                in doc.getElementsByTagName('polyline')]\n",
    "doc.unlink()\n",
    "path_strings"
   ]
  },
  {
   "cell_type": "code",
   "execution_count": 60,
   "metadata": {},
   "outputs": [
    {
     "data": {
      "text/plain": [
       "[['337.893', '149.824', '342.367', '154.619'],\n",
       " ['327.342', '149.824', '322.867', '154.619'],\n",
       " ['323.451', '128.73', '326.783', '137.04'],\n",
       " ['341.783', '129.209', '338.449', '137.52'],\n",
       " ['322.83', '142.314', '326.402', '143.592'],\n",
       " ['342.402', '142.314', '338.832', '143.592']]"
      ]
     },
     "execution_count": 60,
     "metadata": {},
     "output_type": "execute_result"
    }
   ],
   "source": [
    "doc = minidom.parse(os.path.join(datafol_in,inputF))\n",
    "path_strings = [[path.getAttribute('x1'),path.getAttribute('y1'),path.getAttribute('x2'),path.getAttribute('y2')]  for path\n",
    "                in doc.getElementsByTagName('line')]\n",
    "doc.unlink()\n",
    "path_strings"
   ]
  }
 ],
 "metadata": {
  "kernelspec": {
   "display_name": "Python 3 (ipykernel)",
   "language": "python",
   "name": "python3"
  },
  "language_info": {
   "codemirror_mode": {
    "name": "ipython",
    "version": 3
   },
   "file_extension": ".py",
   "mimetype": "text/x-python",
   "name": "python",
   "nbconvert_exporter": "python",
   "pygments_lexer": "ipython3",
   "version": "3.9.14"
  }
 },
 "nbformat": 4,
 "nbformat_minor": 2
}
