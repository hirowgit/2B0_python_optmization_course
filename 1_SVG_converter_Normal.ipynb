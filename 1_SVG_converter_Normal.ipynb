{
 "cells": [
  {
   "cell_type": "code",
   "execution_count": 1,
   "metadata": {},
   "outputs": [],
   "source": [
    "from svg.path import parse_path\n",
    "from svg.path.path import Line\n",
    "from xml.dom import minidom\n",
    "\n",
    "# Learned from\n",
    "# https://python5.com/q/twovjmxc"
   ]
  },
  {
   "cell_type": "code",
   "execution_count": 2,
   "metadata": {},
   "outputs": [],
   "source": [
    "# read the SVG file\n",
    "doc = minidom.parse('LaneMap2.svg')\n",
    "path_strings = [path.getAttribute('d') for path\n",
    "                in doc.getElementsByTagName('path')]\n",
    "doc.unlink()"
   ]
  },
  {
   "cell_type": "code",
   "execution_count": 3,
   "metadata": {},
   "outputs": [
    {
     "data": {
      "text/plain": [
       "['M72,54h72c0,0,18,0,27,9s9,27,9,27v72',\n",
       " 'M72,72h72c0,0,9,0,18,0s18,18,18,18',\n",
       " 'M180,126c0-9-9-18-18-27s-18-9-18-9H72',\n",
       " 'M72,108h72c0,0,9,0,18,9s18,18,18,27']"
      ]
     },
     "execution_count": 3,
     "metadata": {},
     "output_type": "execute_result"
    }
   ],
   "source": [
    "path_strings"
   ]
  },
  {
   "cell_type": "code",
   "execution_count": 4,
   "metadata": {},
   "outputs": [
    {
     "data": {
      "text/plain": [
       "'M180,126c0-9-9-18-18-27s-18-9-18-9H72'"
      ]
     },
     "execution_count": 4,
     "metadata": {},
     "output_type": "execute_result"
    }
   ],
   "source": [
    "path_strings[2]\n"
   ]
  },
  {
   "cell_type": "code",
   "execution_count": 6,
   "metadata": {},
   "outputs": [
    {
     "data": {
      "text/plain": [
       "Path(Move(to=(180+126j)), CubicBezier(start=(180+126j), control1=(180+117j), control2=(171+108j), end=(162+99j)), CubicBezier(start=(162+99j), control1=(153+90j), control2=(144+90j), end=(144+90j)), Line(start=(144+90j), end=(72+90j)))"
      ]
     },
     "execution_count": 6,
     "metadata": {},
     "output_type": "execute_result"
    }
   ],
   "source": [
    "parse_path(path_strings[2])"
   ]
  },
  {
   "cell_type": "code",
   "execution_count": 46,
   "metadata": {},
   "outputs": [
    {
     "data": {
      "text/plain": [
       "False"
      ]
     },
     "execution_count": 46,
     "metadata": {},
     "output_type": "execute_result"
    }
   ],
   "source": [
    "e in path"
   ]
  },
  {
   "cell_type": "code",
   "execution_count": 16,
   "metadata": {},
   "outputs": [
    {
     "name": "stdout",
     "output_type": "stream",
     "text": [
      "(72.00, 54.00) - (144.00, 54.00)\n",
      "(180.00, 90.00) - (180.00, 162.00)\n",
      "(72.00, 72.00) - (144.00, 72.00)\n",
      "(144.00, 90.00) - (72.00, 90.00)\n",
      "(72.00, 108.00) - (144.00, 108.00)\n"
     ]
    }
   ],
   "source": [
    "for path_string in path_strings:\n",
    "    path = parse_path(path_string)\n",
    "    for e in path:\n",
    "        if type(e).__name__ == 'Line':\n",
    "            x0 = e.start.real\n",
    "            y0 = e.start.imag\n",
    "            x1 = e.end.real\n",
    "            y1 = e.end.imag\n",
    "            print(\"(%.2f, %.2f) - (%.2f, %.2f)\" % (x0, y0, x1, y1))"
   ]
  },
  {
   "cell_type": "code",
   "execution_count": 37,
   "metadata": {},
   "outputs": [
    {
     "data": {
      "text/plain": [
       "Move(to=(72+72j))"
      ]
     },
     "execution_count": 37,
     "metadata": {},
     "output_type": "execute_result"
    }
   ],
   "source": [
    "path=parse_path(path_strings[1])\n",
    "key=0\n",
    "path[key]\n"
   ]
  },
  {
   "cell_type": "code",
   "execution_count": 38,
   "metadata": {},
   "outputs": [
    {
     "data": {
      "text/plain": [
       "'Move'"
      ]
     },
     "execution_count": 38,
     "metadata": {},
     "output_type": "execute_result"
    }
   ],
   "source": [
    "type(path[key]).__name__"
   ]
  },
  {
   "cell_type": "code",
   "execution_count": 39,
   "metadata": {},
   "outputs": [
    {
     "data": {
      "text/plain": [
       "72.0"
      ]
     },
     "execution_count": 39,
     "metadata": {},
     "output_type": "execute_result"
    }
   ],
   "source": [
    "path[key].start.real"
   ]
  },
  {
   "cell_type": "code",
   "execution_count": 40,
   "metadata": {},
   "outputs": [
    {
     "data": {
      "text/plain": [
       "72.0"
      ]
     },
     "execution_count": 40,
     "metadata": {},
     "output_type": "execute_result"
    }
   ],
   "source": [
    "path[key].start.imag"
   ]
  },
  {
   "cell_type": "code",
   "execution_count": 41,
   "metadata": {},
   "outputs": [
    {
     "data": {
      "text/plain": [
       "Line(start=(72+72j), end=(144+72j))"
      ]
     },
     "execution_count": 41,
     "metadata": {},
     "output_type": "execute_result"
    }
   ],
   "source": [
    "key=1\n",
    "path[key]"
   ]
  },
  {
   "cell_type": "code",
   "execution_count": 42,
   "metadata": {},
   "outputs": [
    {
     "data": {
      "text/plain": [
       "'Line'"
      ]
     },
     "execution_count": 42,
     "metadata": {},
     "output_type": "execute_result"
    }
   ],
   "source": [
    "type(path[key]).__name__"
   ]
  },
  {
   "cell_type": "code",
   "execution_count": 43,
   "metadata": {},
   "outputs": [
    {
     "data": {
      "text/plain": [
       "72.0"
      ]
     },
     "execution_count": 43,
     "metadata": {},
     "output_type": "execute_result"
    }
   ],
   "source": [
    "path[key].start.real"
   ]
  },
  {
   "cell_type": "code",
   "execution_count": 44,
   "metadata": {},
   "outputs": [
    {
     "data": {
      "text/plain": [
       "72.0"
      ]
     },
     "execution_count": 44,
     "metadata": {},
     "output_type": "execute_result"
    }
   ],
   "source": [
    "path[key].start.imag"
   ]
  },
  {
   "cell_type": "code",
   "execution_count": 45,
   "metadata": {},
   "outputs": [],
   "source": [
    "def cubic_bezier_converter(start, control1, control2, end):\n",
    "    original_data = np.array([start, control1, control2, end])\n",
    "    cubic_bezier_matrix = np.array([\n",
    "        [-1,  3, -3,  1],\n",
    "        [ 3, -6,  3,  0],\n",
    "        [-3,  3,  0,  0],\n",
    "        [ 1,  0,  0,  0]\n",
    "    ])\n",
    "    return_data = cubic_bezier_matrix.dot(original_data)\n",
    "\n",
    "    return (lambda t: np.array([t**3, t**2, t, 1]).dot(return_data))\n",
    "\n",
    "# Learned from\n",
    "# https://stackoverflow.com/questions/36971363/how-to-interpolate-svg-path-into-a-pixel-coordinates-not-simply-raster-in-pyth"
   ]
  },
  {
   "cell_type": "code",
   "execution_count": 51,
   "metadata": {},
   "outputs": [],
   "source": [
    "import numpy as np\n",
    "import matplotlib.pyplot as plt\n",
    "\n",
    "block=1\n",
    "n_dots=100\n",
    "key=3\n",
    "\n",
    "path=parse_path(path_strings[block])\n",
    "\n",
    "dat=path[key]\n",
    "if type(path[key]).__name__=='CubicBezier':\n",
    "    start_np = np.array([dat.start.real, dat.start.imag])\n",
    "    control1_np = np.array([dat.control1.real, dat.control1.imag])\n",
    "    control2_np = np.array([dat.control2.real, dat.control2.imag])\n",
    "    end_np = np.array([dat.end.real, dat.end.imag])\n",
    "    converted_curve = cubic_bezier_converter(start_np, control1_np, control2_np, end_np)\n",
    "    points_np = np.array([converted_curve(t) for t in np.linspace(0, 1, n_dots)])"
   ]
  },
  {
   "cell_type": "code",
   "execution_count": 52,
   "metadata": {},
   "outputs": [
    {
     "data": {
      "image/png": "[encoded data removed]",
      "text/plain": [
       "<Figure size 432x288 with 1 Axes>"
      ]
     },
     "metadata": {
      "needs_background": "light"
     },
     "output_type": "display_data"
    }
   ],
   "source": [
    "# == plot the line==\n",
    "controls_np = np.array([start_np, control1_np, control2_np, end_np])\n",
    "#  curve drawing \n",
    "plt.plot(points_np[:, 0], points_np[:, 1], '-')\n",
    "# showing of control points\n",
    "plt.plot(controls_np[:,0], controls_np[:,1], 'o')\n",
    "#  control line drawing \n",
    "plt.plot([start_np[0], control1_np[0]], [start_np[1], control1_np[1]], '-', lw=1)\n",
    "plt.plot([control2_np[0], end_np[0]], [control2_np[1], end_np[1]], '-', lw=1)\n",
    "\n",
    "plt.show()"
   ]
  },
  {
   "cell_type": "code",
   "execution_count": null,
   "metadata": {},
   "outputs": [],
   "source": []
  }
 ],
 "metadata": {
  "kernelspec": {
   "display_name": "Python 3 (ipykernel)",
   "language": "python",
   "name": "python3"
  },
  "language_info": {
   "codemirror_mode": {
    "name": "ipython",
    "version": 3
   },
   "file_extension": ".py",
   "mimetype": "text/x-python",
   "name": "python",
   "nbconvert_exporter": "python",
   "pygments_lexer": "ipython3",
   "version": "3.9.14"
  }
 },
 "nbformat": 4,
 "nbformat_minor": 2
}
