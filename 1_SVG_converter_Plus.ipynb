{
 "cells": [
  {
   "cell_type": "code",
   "execution_count": 1,
   "metadata": {},
   "outputs": [],
   "source": [
    "from svg.path import parse_path\n",
    "from svg.path.path import Line\n",
    "from xml.dom import minidom\n",
    "import numpy as np\n",
    "import matplotlib.pyplot as plt\n",
    "\n",
    "# Learned from\n",
    "# https://python5.com/q/twovjmxc"
   ]
  },
  {
   "cell_type": "code",
   "execution_count": 54,
   "metadata": {},
   "outputs": [],
   "source": [
    "# read the SVG file\n",
    "doc = minidom.parse('B_sample.svg')\n",
    "path_strings = [path.getAttribute('d') for path\n",
    "                in doc.getElementsByTagName('path')]\n",
    "doc.unlink()"
   ]
  },
  {
   "cell_type": "code",
   "execution_count": 55,
   "metadata": {},
   "outputs": [
    {
     "data": {
      "text/plain": [
       "['M108,63c0,0,35.157,0,56.25,0s42.188,29.25,56.25,58.5  s35.156,58.5,56.25,58.5s56.25,0,56.25,0']"
      ]
     },
     "execution_count": 55,
     "metadata": {},
     "output_type": "execute_result"
    }
   ],
   "source": [
    "path_strings"
   ]
  },
  {
   "cell_type": "code",
   "execution_count": 56,
   "metadata": {},
   "outputs": [
    {
     "data": {
      "text/plain": [
       "'M108,63c0,0,35.157,0,56.25,0s42.188,29.25,56.25,58.5  s35.156,58.5,56.25,58.5s56.25,0,56.25,0'"
      ]
     },
     "execution_count": 56,
     "metadata": {},
     "output_type": "execute_result"
    }
   ],
   "source": [
    "path_strings[0]\n"
   ]
  },
  {
   "cell_type": "code",
   "execution_count": 57,
   "metadata": {},
   "outputs": [
    {
     "data": {
      "text/plain": [
       "Path(Move(to=(108+63j)), CubicBezier(start=(108+63j), control1=(108+63j), control2=(143.15699999999998+63j), end=(164.25+63j)), CubicBezier(start=(164.25+63j), control1=(185.34300000000002+63j), control2=(206.438+92.25j), end=(220.5+121.5j)), CubicBezier(start=(220.5+121.5j), control1=(234.562+150.75j), control2=(255.656+180j), end=(276.75+180j)), CubicBezier(start=(276.75+180j), control1=(297.844+180j), control2=(333+180j), end=(333+180j)))"
      ]
     },
     "execution_count": 57,
     "metadata": {},
     "output_type": "execute_result"
    }
   ],
   "source": [
    "parse_path(path_strings[0])"
   ]
  },
  {
   "cell_type": "code",
   "execution_count": 59,
   "metadata": {},
   "outputs": [],
   "source": [
    "for path_string in path_strings:\n",
    "    path = parse_path(path_string)\n",
    "    for e in path:\n",
    "        if type(e).__name__ == 'Line':\n",
    "            x0 = e.start.real\n",
    "            y0 = e.start.imag\n",
    "            x1 = e.end.real\n",
    "            y1 = e.end.imag\n",
    "            print(\"(%.2f, %.2f) - (%.2f, %.2f)\" % (x0, y0, x1, y1))"
   ]
  },
  {
   "cell_type": "code",
   "execution_count": 61,
   "metadata": {},
   "outputs": [
    {
     "data": {
      "text/plain": [
       "Move(to=(108+63j))"
      ]
     },
     "execution_count": 61,
     "metadata": {},
     "output_type": "execute_result"
    }
   ],
   "source": [
    "path=parse_path(path_strings[0])\n",
    "key=0\n",
    "path[key]\n"
   ]
  },
  {
   "cell_type": "code",
   "execution_count": 62,
   "metadata": {},
   "outputs": [
    {
     "data": {
      "text/plain": [
       "'Move'"
      ]
     },
     "execution_count": 62,
     "metadata": {},
     "output_type": "execute_result"
    }
   ],
   "source": [
    "type(path[key]).__name__"
   ]
  },
  {
   "cell_type": "code",
   "execution_count": 63,
   "metadata": {},
   "outputs": [
    {
     "data": {
      "text/plain": [
       "108.0"
      ]
     },
     "execution_count": 63,
     "metadata": {},
     "output_type": "execute_result"
    }
   ],
   "source": [
    "path[key].start.real"
   ]
  },
  {
   "cell_type": "code",
   "execution_count": 64,
   "metadata": {},
   "outputs": [
    {
     "data": {
      "text/plain": [
       "63.0"
      ]
     },
     "execution_count": 64,
     "metadata": {},
     "output_type": "execute_result"
    }
   ],
   "source": [
    "path[key].start.imag"
   ]
  },
  {
   "cell_type": "code",
   "execution_count": 65,
   "metadata": {},
   "outputs": [
    {
     "data": {
      "text/plain": [
       "CubicBezier(start=(108+63j), control1=(108+63j), control2=(143.15699999999998+63j), end=(164.25+63j))"
      ]
     },
     "execution_count": 65,
     "metadata": {},
     "output_type": "execute_result"
    }
   ],
   "source": [
    "key=1\n",
    "path[key]"
   ]
  },
  {
   "cell_type": "code",
   "execution_count": 66,
   "metadata": {},
   "outputs": [
    {
     "data": {
      "text/plain": [
       "'CubicBezier'"
      ]
     },
     "execution_count": 66,
     "metadata": {},
     "output_type": "execute_result"
    }
   ],
   "source": [
    "type(path[key]).__name__"
   ]
  },
  {
   "cell_type": "code",
   "execution_count": 67,
   "metadata": {},
   "outputs": [
    {
     "data": {
      "text/plain": [
       "108.0"
      ]
     },
     "execution_count": 67,
     "metadata": {},
     "output_type": "execute_result"
    }
   ],
   "source": [
    "path[key].start.real"
   ]
  },
  {
   "cell_type": "code",
   "execution_count": 68,
   "metadata": {},
   "outputs": [
    {
     "data": {
      "text/plain": [
       "63.0"
      ]
     },
     "execution_count": 68,
     "metadata": {},
     "output_type": "execute_result"
    }
   ],
   "source": [
    "path[key].start.imag"
   ]
  },
  {
   "cell_type": "code",
   "execution_count": 72,
   "metadata": {},
   "outputs": [],
   "source": [
    "def cubic_bezier_converter(start, control1, control2, end):\n",
    "    original_data = np.array([start, control1, control2, end])\n",
    "    cubic_bezier_matrix = np.array([\n",
    "        [-1,  3, -3,  1],\n",
    "        [ 3, -6,  3,  0],\n",
    "        [-3,  3,  0,  0],\n",
    "        [ 1,  0,  0,  0]\n",
    "    ])\n",
    "    return_data = cubic_bezier_matrix.dot(original_data)\n",
    "\n",
    "    return (lambda t: np.array([t**3, t**2, t, 1]).dot(return_data))\n",
    "\n",
    "# Learned from\n",
    "# https://stackoverflow.com/questions/36971363/how-to-interpolate-svg-path-into-a-pixel-coordinates-not-simply-raster-in-pyth"
   ]
  },
  {
   "cell_type": "code",
   "execution_count": 83,
   "metadata": {},
   "outputs": [
    {
     "data": {
      "image/png": "[encoded data removed]",
      "text/plain": [
       "<Figure size 432x288 with 1 Axes>"
      ]
     },
     "metadata": {
      "needs_background": "light"
     },
     "output_type": "display_data"
    }
   ],
   "source": [
    "block=0\n",
    "n_dots=100\n",
    "key=0\n",
    "\n",
    "path=parse_path(path_strings[block])\n",
    "\n",
    "dat=path[key]numpy.linalg.norm(u)\n",
    "if type(path[key]).__name__=='CubicBezier':\n",
    "    start_np = np.array([dat.start.real, dat.start.imag])\n",
    "    control1_np = np.array([dat.control1.real, dat.control1.imag])\n",
    "    control2_np = np.array([dat.control2.real, dat.control2.imag])\n",
    "    end_np = np.array([dat.end.real, dat.end.imag])\n",
    "    converted_curve = cubic_bezier_converter(start_np, control1_np, control2_np, end_np)\n",
    "    points_np = np.array([converted_curve(t) for t in np.linspace(0, 1, n_dots)])\n",
    "    \n",
    "# == plot the line==\n",
    "controls_np = np.array([start_np, control1_np, control2_np, end_np])\n",
    "#  curve drawing \n",
    "plt.plot(points_np[:, 0], points_np[:, 1], '-')\n",
    "# showing of control points\n",
    "plt.plot(controls_np[:,0], controls_np[:,1], 'o')\n",
    "#  control line drawing \n",
    "plt.plot([start_np[0], control1_np[0]], [start_np[1], control1_np[1]], '-', lw=1)\n",
    "plt.plot([control2_np[0], end_np[0]], [control2_np[1], end_np[1]], '-', lw=1)\n",
    "\n",
    "plt.show()"
   ]
  },
  {
   "cell_type": "code",
   "execution_count": 84,
   "metadata": {},
   "outputs": [
    {
     "data": {
      "image/png": "[encoded data removed]",
      "text/plain": [
       "<Figure size 432x288 with 1 Axes>"
      ]
     },
     "metadata": {
      "needs_background": "light"
     },
     "output_type": "display_data"
    }
   ],
   "source": [
    "block=0\n",
    "n_dots=100\n",
    "key=1\n",
    "\n",
    "path=parse_path(path_strings[block])\n",
    "\n",
    "dat=path[key]\n",
    "if type(path[key]).__name__=='CubicBezier':\n",
    "    start_np = np.array([dat.start.real, dat.start.imag])\n",
    "    control1_np = np.array([dat.control1.real, dat.control1.imag])\n",
    "    control2_np = np.array([dat.control2.real, dat.control2.imag])\n",
    "    end_np = np.array([dat.end.real, dat.end.imag])\n",
    "    converted_curve = cubic_bezier_converter(start_np, control1_np, control2_np, end_np)\n",
    "    points_np = np.array([converted_curve(t) for t in np.linspace(0, 1, n_dots)])\n",
    "    \n",
    "# == plot the line==\n",
    "controls_np = np.array([start_np, control1_np, control2_np, end_np])\n",
    "#  curve drawing \n",
    "plt.plot(points_np[:, 0], points_np[:, 1], '-')\n",
    "# showing of control points\n",
    "plt.plot(controls_np[:,0], controls_np[:,1], 'o')\n",
    "#  control line drawing \n",
    "plt.plot([start_np[0], control1_np[0]], [start_np[1], control1_np[1]], '-', lw=1)\n",
    "plt.plot([control2_np[0], end_np[0]], [control2_np[1], end_np[1]], '-', lw=1)\n",
    "\n",
    "plt.show()"
   ]
  },
  {
   "cell_type": "code",
   "execution_count": 85,
   "metadata": {},
   "outputs": [
    {
     "data": {
      "image/png": "[encoded data removed]",
      "text/plain": [
       "<Figure size 432x288 with 1 Axes>"
      ]
     },
     "metadata": {
      "needs_background": "light"
     },
     "output_type": "display_data"
    }
   ],
   "source": [
    "block=0\n",
    "n_dots=100\n",
    "key=2\n",
    "\n",
    "path=parse_path(path_strings[block])\n",
    "\n",
    "dat=path[key]\n",
    "if type(path[key]).__name__=='CubicBezier':\n",
    "    start_np = np.array([dat.start.real, dat.start.imag])\n",
    "    control1_np = np.array([dat.control1.real, dat.control1.imag])\n",
    "    control2_np = np.array([dat.control2.real, dat.control2.imag])\n",
    "    end_np = np.array([dat.end.real, dat.end.imag])\n",
    "    converted_curve = cubic_bezier_converter(start_np, control1_np, control2_np, end_np)\n",
    "    points_np = np.array([converted_curve(t) for t in np.linspace(0, 1, n_dots)])\n",
    "    \n",
    "# == plot the line==\n",
    "controls_np = np.array([start_np, control1_np, control2_np, end_np])\n",
    "#  curve drawing \n",
    "plt.plot(points_np[:, 0], points_np[:, 1], '-')\n",
    "# showing of control points\n",
    "plt.plot(controls_np[:,0], controls_np[:,1], 'o')\n",
    "#  control line drawing \n",
    "plt.plot([start_np[0], control1_np[0]], [start_np[1], control1_np[1]], '-', lw=1)\n",
    "plt.plot([control2_np[0], end_np[0]], [control2_np[1], end_np[1]], '-', lw=1)\n",
    "\n",
    "plt.show()"
   ]
  },
  {
   "cell_type": "code",
   "execution_count": 86,
   "metadata": {},
   "outputs": [
    {
     "data": {
      "image/png": "[encoded data removed]",
      "text/plain": [
       "<Figure size 432x288 with 1 Axes>"
      ]
     },
     "metadata": {
      "needs_background": "light"
     },
     "output_type": "display_data"
    }
   ],
   "source": [
    "block=0\n",
    "n_dots=100\n",
    "key=3\n",
    "\n",
    "path=parse_path(path_strings[block])\n",
    "\n",
    "dat=path[key]\n",
    "if type(path[key]).__name__=='CubicBezier':\n",
    "    start_np = np.array([dat.start.real, dat.start.imag])\n",
    "    control1_np = np.array([dat.control1.real, dat.control1.imag])\n",
    "    control2_np = np.array([dat.control2.real, dat.control2.imag])\n",
    "    end_np = np.array([dat.end.real, dat.end.imag])\n",
    "    converted_curve = cubic_bezier_converter(start_np, control1_np, control2_np, end_np)\n",
    "    points_np = np.array([converted_curve(t) for t in np.linspace(0, 1, n_dots)])\n",
    "    \n",
    "# == plot the line==\n",
    "controls_np = np.array([start_np, control1_np, control2_np, end_np])\n",
    "#  curve drawing \n",
    "plt.plot(points_np[:, 0], points_np[:, 1], '-')\n",
    "# showing of control points\n",
    "plt.plot(controls_np[:,0], controls_np[:,1], 'o')\n",
    "#  control line drawing \n",
    "plt.plot([start_np[0], control1_np[0]], [start_np[1], control1_np[1]], '-', lw=1)\n",
    "plt.plot([control2_np[0], end_np[0]], [control2_np[1], end_np[1]], '-', lw=1)\n",
    "\n",
    "plt.show()"
   ]
  },
  {
   "cell_type": "code",
   "execution_count": 87,
   "metadata": {},
   "outputs": [
    {
     "data": {
      "image/png": "[encoded data removed]",
      "text/plain": [
       "<Figure size 432x288 with 1 Axes>"
      ]
     },
     "metadata": {
      "needs_background": "light"
     },
     "output_type": "display_data"
    }
   ],
   "source": [
    "block=0\n",
    "n_dots=100\n",
    "key=4\n",
    "\n",
    "path=parse_path(path_strings[block])\n",
    "\n",
    "dat=path[key]\n",
    "if type(path[key]).__name__=='CubicBezier':\n",
    "    start_np = np.array([dat.start.real, dat.start.imag])\n",
    "    control1_np = np.array([dat.control1.real, dat.control1.imag])\n",
    "    control2_np = np.array([dat.control2.real, dat.control2.imag])\n",
    "    end_np = np.array([dat.end.real, dat.end.imag])\n",
    "    converted_curve = cubic_bezier_converter(start_np, control1_np, control2_np, end_np)\n",
    "    points_np = np.array([converted_curve(t) for t in np.linspace(0, 1, n_dots)])\n",
    "    \n",
    "# == plot the line==\n",
    "controls_np = np.array([start_np, control1_np, control2_np, end_np])\n",
    "#  curve drawing \n",
    "plt.plot(points_np[:, 0], points_np[:, 1], '-')\n",
    "# showing of control points\n",
    "plt.plot(controls_np[:,0], controls_np[:,1], 'o')\n",
    "#  control line drawing \n",
    "plt.plot([start_np[0], control1_np[0]], [start_np[1], control1_np[1]], '-', lw=1)\n",
    "plt.plot([control2_np[0], end_np[0]], [control2_np[1], end_np[1]], '-', lw=1)\n",
    "\n",
    "plt.show()"
   ]
  },
  {
   "cell_type": "code",
   "execution_count": 98,
   "metadata": {},
   "outputs": [
    {
     "data": {
      "image/png": "[encoded data removed]",
      "text/plain": [
       "<Figure size 432x288 with 1 Axes>"
      ]
     },
     "metadata": {
      "needs_background": "light"
     },
     "output_type": "display_data"
    }
   ],
   "source": [
    "diff_np=start_np-end_np\n",
    "n_dots=np.round(np.linalg.norm(diff_np))\n",
    "\n",
    "block=0\n",
    "n_dots=100\n",
    "key=3\n",
    "\n",
    "path=parse_path(path_strings[block])\n",
    "\n",
    "dat=path[key]\n",
    "if type(path[key]).__name__=='CubicBezier':\n",
    "    start_np = np.array([dat.start.real, dat.start.imag])\n",
    "    control1_np = np.array([dat.control1.real, dat.control1.imag])\n",
    "    control2_np = np.array([dat.control2.real, dat.control2.imag])\n",
    "    end_np = np.array([dat.end.real, dat.end.imag])\n",
    "    converted_curve = cubic_bezier_converter(start_np, control1_np, control2_np, end_np)\n",
    "    points_np = np.array([converted_curve(t) for t in np.linspace(0, 1, n_dots)])\n",
    "    \n",
    "# == plot the line==\n",
    "controls_np = np.array([start_np, control1_np, control2_np, end_np])\n",
    "#  curve drawing \n",
    "plt.plot(points_np[:, 0], points_np[:, 1], '-')\n",
    "# showing of control points\n",
    "plt.plot(controls_np[:,0], controls_np[:,1], 'o')\n",
    "#  control line drawing \n",
    "plt.plot([start_np[0], control1_np[0]], [start_np[1], control1_np[1]], '-', lw=1)\n",
    "plt.plot([control2_np[0], end_np[0]], [control2_np[1], end_np[1]], '-', lw=1)\n",
    "\n",
    "plt.show()"
   ]
  },
  {
   "cell_type": "code",
   "execution_count": null,
   "metadata": {},
   "outputs": [],
   "source": []
  }
 ],
 "metadata": {
  "kernelspec": {
   "display_name": "Python 3 (ipykernel)",
   "language": "python",
   "name": "python3"
  },
  "language_info": {
   "codemirror_mode": {
    "name": "ipython",
    "version": 3
   },
   "file_extension": ".py",
   "mimetype": "text/x-python",
   "name": "python",
   "nbconvert_exporter": "python",
   "pygments_lexer": "ipython3",
   "version": "3.9.14"
  }
 },
 "nbformat": 4,
 "nbformat_minor": 2
}
