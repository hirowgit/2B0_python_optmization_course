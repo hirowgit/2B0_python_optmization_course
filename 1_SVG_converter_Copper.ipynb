{
 "cells": [
  {
   "cell_type": "code",
   "execution_count": 1,
   "metadata": {},
   "outputs": [
    {
     "ename": "FileNotFoundError",
     "evalue": "[Errno 2] No such file or directory: 'LaneMap2.svg'",
     "output_type": "error",
     "traceback": [
      "\u001b[0;31m---------------------------------------------------------------------------\u001b[0m",
      "\u001b[0;31mFileNotFoundError\u001b[0m                         Traceback (most recent call last)",
      "\u001b[0;32m/var/folders/mg/w5t8lkhc8xj79f001s7kzpfh0000gp/T/ipykernel_88579/1500335656.py\u001b[0m in \u001b[0;36m<module>\u001b[0;34m\u001b[0m\n\u001b[1;32m     25\u001b[0m \u001b[0;34m\u001b[0m\u001b[0m\n\u001b[1;32m     26\u001b[0m \u001b[0;34m\u001b[0m\u001b[0m\n\u001b[0;32m---> 27\u001b[0;31m \u001b[0mdoc\u001b[0m \u001b[0;34m=\u001b[0m \u001b[0mminidom\u001b[0m\u001b[0;34m.\u001b[0m\u001b[0mparse\u001b[0m\u001b[0;34m(\u001b[0m\u001b[0;34m'LaneMap2.svg'\u001b[0m\u001b[0;34m)\u001b[0m\u001b[0;34m\u001b[0m\u001b[0;34m\u001b[0m\u001b[0m\n\u001b[0m\u001b[1;32m     28\u001b[0m path_strings = [path.getAttribute('d') for path\n\u001b[1;32m     29\u001b[0m                 in doc.getElementsByTagName('path')]\n",
      "\u001b[0;32m/usr/local/Cellar/python@3.9/3.9.7_1/Frameworks/Python.framework/Versions/3.9/lib/python3.9/xml/dom/minidom.py\u001b[0m in \u001b[0;36mparse\u001b[0;34m(file, parser, bufsize)\u001b[0m\n\u001b[1;32m   1986\u001b[0m     \u001b[0;32mif\u001b[0m \u001b[0mparser\u001b[0m \u001b[0;32mis\u001b[0m \u001b[0;32mNone\u001b[0m \u001b[0;32mand\u001b[0m \u001b[0;32mnot\u001b[0m \u001b[0mbufsize\u001b[0m\u001b[0;34m:\u001b[0m\u001b[0;34m\u001b[0m\u001b[0;34m\u001b[0m\u001b[0m\n\u001b[1;32m   1987\u001b[0m         \u001b[0;32mfrom\u001b[0m \u001b[0mxml\u001b[0m\u001b[0;34m.\u001b[0m\u001b[0mdom\u001b[0m \u001b[0;32mimport\u001b[0m \u001b[0mexpatbuilder\u001b[0m\u001b[0;34m\u001b[0m\u001b[0;34m\u001b[0m\u001b[0m\n\u001b[0;32m-> 1988\u001b[0;31m         \u001b[0;32mreturn\u001b[0m \u001b[0mexpatbuilder\u001b[0m\u001b[0;34m.\u001b[0m\u001b[0mparse\u001b[0m\u001b[0;34m(\u001b[0m\u001b[0mfile\u001b[0m\u001b[0;34m)\u001b[0m\u001b[0;34m\u001b[0m\u001b[0;34m\u001b[0m\u001b[0m\n\u001b[0m\u001b[1;32m   1989\u001b[0m     \u001b[0;32melse\u001b[0m\u001b[0;34m:\u001b[0m\u001b[0;34m\u001b[0m\u001b[0;34m\u001b[0m\u001b[0m\n\u001b[1;32m   1990\u001b[0m         \u001b[0;32mfrom\u001b[0m \u001b[0mxml\u001b[0m\u001b[0;34m.\u001b[0m\u001b[0mdom\u001b[0m \u001b[0;32mimport\u001b[0m \u001b[0mpulldom\u001b[0m\u001b[0;34m\u001b[0m\u001b[0;34m\u001b[0m\u001b[0m\n",
      "\u001b[0;32m/usr/local/Cellar/python@3.9/3.9.7_1/Frameworks/Python.framework/Versions/3.9/lib/python3.9/xml/dom/expatbuilder.py\u001b[0m in \u001b[0;36mparse\u001b[0;34m(file, namespaces)\u001b[0m\n\u001b[1;32m    908\u001b[0m \u001b[0;34m\u001b[0m\u001b[0m\n\u001b[1;32m    909\u001b[0m     \u001b[0;32mif\u001b[0m \u001b[0misinstance\u001b[0m\u001b[0;34m(\u001b[0m\u001b[0mfile\u001b[0m\u001b[0;34m,\u001b[0m \u001b[0mstr\u001b[0m\u001b[0;34m)\u001b[0m\u001b[0;34m:\u001b[0m\u001b[0;34m\u001b[0m\u001b[0;34m\u001b[0m\u001b[0m\n\u001b[0;32m--> 910\u001b[0;31m         \u001b[0;32mwith\u001b[0m \u001b[0mopen\u001b[0m\u001b[0;34m(\u001b[0m\u001b[0mfile\u001b[0m\u001b[0;34m,\u001b[0m \u001b[0;34m'rb'\u001b[0m\u001b[0;34m)\u001b[0m \u001b[0;32mas\u001b[0m \u001b[0mfp\u001b[0m\u001b[0;34m:\u001b[0m\u001b[0;34m\u001b[0m\u001b[0;34m\u001b[0m\u001b[0m\n\u001b[0m\u001b[1;32m    911\u001b[0m             \u001b[0mresult\u001b[0m \u001b[0;34m=\u001b[0m \u001b[0mbuilder\u001b[0m\u001b[0;34m.\u001b[0m\u001b[0mparseFile\u001b[0m\u001b[0;34m(\u001b[0m\u001b[0mfp\u001b[0m\u001b[0;34m)\u001b[0m\u001b[0;34m\u001b[0m\u001b[0;34m\u001b[0m\u001b[0m\n\u001b[1;32m    912\u001b[0m     \u001b[0;32melse\u001b[0m\u001b[0;34m:\u001b[0m\u001b[0;34m\u001b[0m\u001b[0;34m\u001b[0m\u001b[0m\n",
      "\u001b[0;31mFileNotFoundError\u001b[0m: [Errno 2] No such file or directory: 'LaneMap2.svg'"
     ]
    }
   ],
   "source": [
    "import numpy as np\n",
    "import matplotlib.pyplot as plt\n",
    "\n",
    "from svg.path import parse_path\n",
    "from svg.path.path import Line\n",
    "from xml.dom import minidom\n",
    "\n",
    "def line_splitter(start, end):\n",
    "    return (lambda t: (1-t)*start+t*end)\n",
    "\n",
    "def cubic_bezier_converter(start, control1, control2, end):\n",
    "    original_data = np.array([start, control1, control2, end])\n",
    "    cubic_bezier_matrix = np.array([\n",
    "        [-1,  3, -3,  1],\n",
    "        [ 3, -6,  3,  0],\n",
    "        [-3,  3,  0,  0],\n",
    "        [ 1,  0,  0,  0]\n",
    "    ])\n",
    "    return_data = cubic_bezier_matrix.dot(original_data)\n",
    "\n",
    "    return (lambda t: np.array([t**3, t**2, t, 1]).dot(return_data))\n",
    "\n",
    "# Learned from\n",
    "# https://stackoverflow.com/questions/36971363/how-to-interpolate-svg-path-into-a-pixel-coordinates-not-simply-raster-in-pyth\n",
    "\n",
    "\n",
    "doc = minidom.parse('LaneMap2.svg')\n",
    "path_strings = [path.getAttribute('d') for path\n",
    "                in doc.getElementsByTagName('path')]\n",
    "doc.unlink()\n",
    "\n",
    "points_np_all=[]\n",
    "points_np_all=np.empty((len(path_strings)),dtype=object)\n",
    "print(len(points_np_all))\n",
    "#points_np_all[k]=np.array([])\n",
    "\n",
    "for k in range(len(path_strings)):\n",
    "#for path_string in path_strings:\n",
    "    path = parse_path(path_strings[k])\n",
    "    points_np_merge=np.empty((0,2), float)\n",
    "    #points_np_merge=np.empty(points_np_merge)\n",
    "    for dat in path:\n",
    "\n",
    "#path=parse_path(path_strings[block])\n",
    "\n",
    "#dat=path[key]\n",
    "\n",
    "        if type(dat).__name__=='CubicBezier':\n",
    "            start_np = np.array([dat.start.real, dat.start.imag])\n",
    "            control1_np = np.array([dat.control1.real, dat.control1.imag])\n",
    "            control2_np = np.array([dat.control2.real, dat.control2.imag])\n",
    "            end_np = np.array([dat.end.real, dat.end.imag])\n",
    "            converted_curve = cubic_bezier_converter(start_np, control1_np, control2_np, end_np)\n",
    "            # \n",
    "            diff_np=start_np-end_np\n",
    "            n_dots=np.round(np.linalg.norm(diff_np))\n",
    "            # \n",
    "            points_np = np.array([converted_curve(t) for t in np.linspace(0, 1, n_dots)])\n",
    "        elif type(dat).__name__=='Line':\n",
    "            start_np = np.array([dat.start.real, dat.start.imag])\n",
    "            end_np = np.array([dat.end.real, dat.end.imag])\n",
    "            converted_line = line_splitter(start_np,end_np)\n",
    "            # \n",
    "            diff_np=start_np-end_np\n",
    "            n_dots=np.round(np.linalg.norm(diff_np))\n",
    "            #     \n",
    "            points_np=np.array([converted_line(t) for t in np.linspace(0, 1, n_dots)])\n",
    "        elif type(dat).__name__=='Move':\n",
    "            # \n",
    "            n_dots=1\n",
    "            # \n",
    "            start_np = np.array([dat.start.real, dat.start.imag])\n",
    "            end_np = np.array([dat.end.real, dat.end.imag])\n",
    "            points_np = np.array([start_np,end_np])\n",
    "        else:\n",
    "            points_np=np.array([])\n",
    "        #points_np_merge=np.concatenate(points_np_merge,points_np)\n",
    "        points_np_merge=np.append(points_np_merge, points_np, axis=0)\n",
    "#         if k==0:\n",
    "#             points_np_merge=points_np\n",
    "#         else:\n",
    "#             points_np_merge=np.append(points_np_merge,points_np,axis=0)\n",
    "        plt.plot(points_np[:, 0], points_np[:, 1], '.-')\n",
    "        plt.show()\n",
    "        print(len(points_np))\n",
    "        print(len(points_np_merge))\n",
    "    #points_np_all1=points_np_all1.append(points_np_merge)\n",
    "    #points_np_all=points_np_merge\n",
    "    points_np_all[k]= points_np_merge\n",
    "#     points_np_all=points_np_all.append(points_np_merge)\n",
    "    print(len(points_np_all))\n",
    "    plt.plot(points_np_merge[:, 0], points_np_merge[:, 1], '.-')\n",
    "    plt.show()\n",
    "\n",
    "\n",
    "len(points_np_all)"
   ]
  },
  {
   "cell_type": "code",
   "execution_count": 8,
   "metadata": {},
   "outputs": [
    {
     "data": {
      "image/png": "[encoded data removed]",
      "text/plain": [
       "<Figure size 432x288 with 1 Axes>"
      ]
     },
     "metadata": {
      "needs_background": "light"
     },
     "output_type": "display_data"
    }
   ],
   "source": [
    "len(points_np_all)\n",
    "for k in range(len(points_np_all)):\n",
    "    points_np=points_np_all[k]\n",
    "    plt.plot(points_np[:, 0], points_np[:, 1], '.-')\n",
    "plt.show()\n",
    "    "
   ]
  },
  {
   "cell_type": "code",
   "execution_count": null,
   "metadata": {},
   "outputs": [],
   "source": []
  }
 ],
 "metadata": {
  "kernelspec": {
   "display_name": "Python 3 (ipykernel)",
   "language": "python",
   "name": "python3"
  },
  "language_info": {
   "codemirror_mode": {
    "name": "ipython",
    "version": 3
   },
   "file_extension": ".py",
   "mimetype": "text/x-python",
   "name": "python",
   "nbconvert_exporter": "python",
   "pygments_lexer": "ipython3",
   "version": "3.9.7"
  }
 },
 "nbformat": 4,
 "nbformat_minor": 2
}
